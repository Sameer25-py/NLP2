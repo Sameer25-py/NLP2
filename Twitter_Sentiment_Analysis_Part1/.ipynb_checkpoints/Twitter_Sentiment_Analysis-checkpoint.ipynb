{
 "cells": [
  {
   "cell_type": "markdown",
   "metadata": {},
   "source": [
    "# Sentiment Analysis from Tweets\n",
    "[Twitter](https://twitter.com/) is a popular microblog service where people can post information and opinions on any topic. For this assignment, you will use tweets about Apple corporation that were extracted from a Twitter dataset created by Sanders Analytics. You can also use the [Twitter api](https://developer.twitter.com/en/docs) for extracting tweets\n",
    "to create your own dataset.\n",
    "\n",
    "We will divide this task into the following two sub tasks:\n",
    "<ul>\n",
    "<li>The first sub task is binary sentiment classification, for this you will use the  twitter-sanders-apple2.csv file that contains 479 tweets. It has two categories: \n",
    "    <ul>\n",
    "        <li>Pos: Tweets that express a positive or favorable sentiment (Count=163)</li>\n",
    "        <li>Neg: Tweets that express a negative or unfavorable sentiment (Count=316)</li>\n",
    "    </ul>\n",
    "</li>\n",
    "<br><br>    \n",
    "<li>The second sub task is binary sentiment classification, for this you will use the  file twitter-sanders-apple3.csv contains 988 tweets. It has three categories: \n",
    "    <ul>\n",
    "        <li>Pos: Tweets that express a positive or favorable sentiment (Count=163)</li>\n",
    "        <li>Neg: Tweets that express a negative or unfavorable sentiment (Count=316)</li>\n",
    "        <li>Neutral: tweets that do not express a sentiment (Count=509)</li>\n",
    "    </ul>\n",
    "</li>\n",
    "</ul>\n"
   ]
  },
  {
   "cell_type": "code",
   "execution_count": 1,
   "metadata": {},
   "outputs": [],
   "source": [
    "from sklearn.metrics import confusion_matrix\n",
    "from sklearn.metrics import classification_report\n",
    "from sklearn.model_selection import train_test_split\n",
    "import matplotlib.pyplot as plt\n",
    "import matplotlib.mlab as mlab\n",
    "import seaborn as sn\n",
    "import pandas as pd\n",
    "import nltk"
   ]
  },
  {
   "cell_type": "markdown",
   "metadata": {},
   "source": [
    "### Step 1: Load the data\n",
    "For this you can use python built in file reader to load the data, you will have to split each row to create list of Tweets(X) and list of sentiment Labels(Y). An alternate option is to use [Pandas](https://pandas.pydata.org/pandas-docs/stable/index.html) to load the csv file, then return the two cols in pandas dataframe as arrays."
   ]
  },
  {
   "cell_type": "code",
   "execution_count": 2,
   "metadata": {},
   "outputs": [],
   "source": [
    "def load_data(filename):\n",
    "    import os\n",
    "    \n",
    "    \"\"\"\n",
    "    Load data from file\n",
    "\n",
    "    Args:\n",
    "        filename : Name of the file from which the data is to be loaded\n",
    "    \n",
    "    Returns: tweet_X, sentiment_Y\n",
    "    tweet_X: list of tweets\n",
    "    sentiment_Y: list of sentiment lables correponding to each tweet\n",
    "    \"\"\"\n",
    "    labels=list(pd.read_csv(filename,usecols=[0]).values)\n",
    "    tweets=list(pd.read_csv(filename,usecols=[1]).values)\n",
    "    tweets=[tweet for i in tweets for tweet in i]\n",
    "    labels=[label for i in labels for label in i]\n",
    "    \n",
    "    return tweets,labels#update these\n",
    "tweet_X_task1, sentiment_label_Y_task1=load_data(\"twitter-sanders-apple2.csv\")\n",
    "tweet_X_task2, sentiment_label_Y_task2=load_data(\"twitter-sanders-apple3.csv\")\n"
   ]
  },
  {
   "cell_type": "markdown",
   "metadata": {},
   "source": [
    "### Step 2: Preprocessing\n",
    "Before we move on to the actual classification section, there is some data cleaning up to be done. As a matter of fact, this step is critical, as it ultimately effects the learning process of your model. So basically [this](https://ibb.co/G9zcx2K) can happen to your model.\n",
    "\n",
    "We will keep to simple preprocessing to make out task easier. Some of you might disagree with the preprocessing steps stated below, hence we wish to mention that choosing different preprocessing steps depend on the nature of task at hand and also that there are always trade offs associated augmenting the orignal dataset.<br>\n",
    "\n",
    "You are required to perform the following preprocessing steps:<br>\n",
    "<i>(note that you must figure out the order of steps for ease of preprocessing yourself)</i><br>\n",
    "<ul>\n",
    "    <li><b>Remove all punctuations.</b><br> Although this makes things simple it is not always a good idea to remove punctuation for example in sentiment classification the use of exclaimation marks, can be used to intensify the sentiment of a given word or sentence hence might be useful, nevertheless it increases the vocabulary size hence we will not use it here. e.g. <blockquote>The opening ceremony was extreamly disappointing!!! #PSL5</blockquote>\n",
    "        Removing pucntutations also removes emojis which might also be helpful.\n",
    "    </li><br>\n",
    "    <li><b>Remove all html tags.</b><br> Mostly done for all tasks </li><br>\n",
    "    <li><b>Replace all @sometext with AT_TOKEN.</b><br>Since there will be lots of different usernames or words that can follow @ we will choose to ignore them as they dont have much sentiment information. Might be usefull for Named Entity Recognition </li>e.g. \n",
    "    <blockquote>@apple will be converted to AT_TOKEN</blockquote>\n",
    "    <li><b>Remove all # symbols.</b> We want to remove the # in #applesucks so that it is not treated differently that any other word in the sentence, this migh also help us to reduce our vocabulary size.</li><br>\n",
    "    <li><b>Convert the tweets to lower case text</b><br> Although all CAPS convey meaningful information for sentiment analysis we mostly convert text to lower case to reduce vocabulary size by reducing the number of variations. For example Car, cAr ,CAR, caR and car will now be treated as a single token car.</li><br>\n",
    "    <li><b>Tokenize the text</b><br></li><br>\n",
    "</ul>    \n",
    "    "
   ]
  },
  {
   "cell_type": "code",
   "execution_count": 3,
   "metadata": {},
   "outputs": [],
   "source": [
    "tweet_X_task1, sentiment_label_Y_task1=load_data(\"twitter-sanders-apple2.csv\")\n",
    "tweet_X_task2, sentiment_label_Y_task2=load_data(\"twitter-sanders-apple3.csv\")\n",
    "\n",
    "def preprocessing(data):\n",
    "    import re\n",
    "    \"\"\"\n",
    "    Perform preprocessing of the tweets\n",
    "\n",
    "    Args:\n",
    "        data : list of tweets\n",
    "    \n",
    "    Returns: data: preprocessed list of tweets\n",
    "    \"\"\"  \n",
    "    #remove http\n",
    "    for i in range(0,len(data)):\n",
    "        data[i]=re.sub(r'http:\\/\\/t\\.co\\/.*?[A-Z]$','',data[i])\n",
    "    #remove lowercase\n",
    "    for i in range(0,len(data)):\n",
    "        data[i]=data[i].lower()\n",
    "    #remove punc\n",
    "    for i in range(0,len(data)):\n",
    "        data[i]=re.sub(r'[^0-9a-z\\@\\s]','',data[i])\n",
    "    #add token\n",
    "    for i in range(0,len(data)):\n",
    "        data[i]=re.sub(r'\\@',\"AT_TOKEN\",data[i])\n",
    "    return data\n",
    "tweet_X_task1=preprocessing(tweet_X_task1)\n",
    "tweet_X_task2=preprocessing(tweet_X_task2)\n",
    "    "
   ]
  },
  {
   "cell_type": "markdown",
   "metadata": {},
   "source": [
    "## Step 3: Feature Extraction\n",
    "For feature extraction you  will  need  a  way  of  mapping  from  sentences  (lists  of  strings)  to  featurevectors, a process called feature extraction or featurization.<br>\n",
    "For feature vectors we will explore four techniques:\n",
    "<ul>\n",
    "    <li><b>Unigram feature vector</b>\n",
    "        <br> This will be a sparse vector with length equal to the vocabulary size.   It is sparse because a sentence generally contains only 20-40 unique words, so only this many positions in the vector will be nonzero.\n",
    "</li><br>\n",
    "    <li><b>Bigram feature vector</b><br>\n",
    "    The number of unique bigrams will be significantly lower that unigrams, but this will also be sparse.</li><br>\n",
    "    <li><b>POS features</b>\n",
    "    Instead of using the words we will use POS tags, this will be generally not as sparse as unigram and bigram, you can use nltk to get POS tags for a sentence, here the featurevectors length will be equal to the total number of unique POS tags.</li><br>\n",
    "    <li><b>Complex features</b>\n",
    "    These can be a combination of unigrams and bigrams or any other complex feature that you can think of, we will explore these in later part of the assignment.</li><br>\n",
    "</ul>\n",
    "\n",
    "Firstly we need the extract the vocabulary for each of these different feature vectors.<br> \n",
    "For this task use [nltk](https://www.nltk.org/)\n"
   ]
  },
  {
   "cell_type": "code",
   "execution_count": 4,
   "metadata": {},
   "outputs": [],
   "source": [
    "\n",
    "def vocabulary_unigram(data):\n",
    "    \"\"\"\n",
    "    Returns list of unique unigrams\n",
    "\n",
    "    Args:\n",
    "        data : list of tweets\n",
    "    \n",
    "    Returns: vocab_unigram: list of unique unigrams\n",
    "    \"\"\"\n",
    "    lst=[]\n",
    "    for dat in data:\n",
    "        lst+=list(nltk.word_tokenize(dat))\n",
    "    lst=list(set(lst))\n",
    "    return lst\n",
    "def vocabulary_bigram(data):\n",
    "    \"\"\"\n",
    "    Returns list of unique bigrams\n",
    "\n",
    "    Args:\n",
    "        data : list of tweets\n",
    "    \n",
    "    Returns: vocab_unigram: list of unique bigrams\n",
    "    \"\"\"\n",
    "    lst=[]\n",
    "    for tweet in data:\n",
    "        tweet=list(nltk.word_tokenize(tweet))\n",
    "        lst+=list(nltk.bigrams(tweet))\n",
    "    lst=list(set(lst))\n",
    "    return lst\n",
    "def vocabulary_POS(data):\n",
    "    \"\"\"\n",
    "    Returns list of unique POS tags\n",
    "\n",
    "    Args:\n",
    "        data : list of tweets\n",
    "    \n",
    "    Returns: vocab_unigram: list of unique POS tags\n",
    "    \"\"\"\n",
    "    \n",
    "    lst=[]\n",
    "    for tweet in data:\n",
    "        tweet=list(nltk.word_tokenize(tweet))\n",
    "        lst +=nltk.pos_tag(tweet)\n",
    "        \n",
    "    lst=list(set(lst))\n",
    "    return lst\n",
    "vocab_unigram_task1=vocabulary_unigram(tweet_X_task1)\n",
    "vocab_bigram_task1=vocabulary_bigram(tweet_X_task1)\n",
    "vocab_pos_tag_task1=vocabulary_POS(tweet_X_task1)\n",
    "\n",
    "vocab_unigram_task2=vocabulary_unigram(tweet_X_task2)\n",
    "vocab_bigram_task2=vocabulary_bigram(tweet_X_task2)\n",
    "vocab_pos_tag_task2=vocabulary_POS(tweet_X_task2)"
   ]
  },
  {
   "cell_type": "markdown",
   "metadata": {},
   "source": [
    "### Creating the feature vector\n",
    "The feature vector that is to be created is in the following format:e.g.\n",
    "<blockquote>{'simplistic': False, 'silly': True, 'and': True, 'tedious': False, 'its': False, 'so': True, 'laddish': False, 'juvenile': False, 'only': False, 'teenage': False, 'boys': False, 'could': False, 'possibly': False, 'find': False, 'it': False, 'funny': False, 'exploitative': False, 'largely': False, 'devoid': False}</blockquote><br>\n",
    "Instructions on how to make the feature vectors:\n",
    "<ul>\n",
    "    <li><b>For each tweet</b> the feature vector to be constructed will be equal to the <b>size of the vocabulary</b>.</li>\n",
    "    <li>The feature vector is a dictionary with <b>word and boolean pairs</b>, here the boolean will be <b>true</b> if the specific word exists in the tweet otherwise it will be <b>false</b>.</li>\n",
    "    \n",
    "</ul>\n"
   ]
  },
  {
   "cell_type": "code",
   "execution_count": 5,
   "metadata": {},
   "outputs": [
    {
     "name": "stdout",
     "output_type": "stream",
     "text": [
      "479\n",
      "479\n",
      "479\n",
      "988\n",
      "988\n",
      "988\n"
     ]
    }
   ],
   "source": [
    "def features_unigram(data,vocab):\n",
    "    \"\"\"\n",
    "    Returns list of feature vectors\n",
    "\n",
    "    Args:\n",
    "        data : list of tweets\n",
    "    \n",
    "    Returns: vocab_unigram: list of unique unigrams\n",
    "    \"\"\"\n",
    "    lst=[]\n",
    "    feat={}\n",
    "    for dat in data:\n",
    "        tweet=nltk.word_tokenize(dat)\n",
    "        for i in vocab:\n",
    "            feat[i]=i in tweet\n",
    "        lst.append(feat)\n",
    "        feat={}\n",
    "    \n",
    "    return lst\n",
    "def features_bigram(data,vocab):\n",
    "    \"\"\"\n",
    "    Returns list of unique bigrams\n",
    "\n",
    "    Args:\n",
    "        data : list of tweets\n",
    "    \n",
    "    Returns: vocab_bigram: list of unique bigrams\n",
    "    \"\"\"\n",
    "    lst=[]\n",
    "    feat={}\n",
    "    for dat in data:\n",
    "        tweet=nltk.word_tokenize(dat)\n",
    "        tweet=list(nltk.bigrams(tweet))\n",
    "        for i in vocab:\n",
    "            feat[i]= i in tweet\n",
    "        lst.append(feat)\n",
    "        feat={}\n",
    "    \n",
    "    return lst\n",
    "        \n",
    "def features_POS(data,vocab):\n",
    "    \"\"\"\n",
    "    Returns list of unique POS tags\n",
    "\n",
    "    Args:\n",
    "        data : list of tweets\n",
    "    \n",
    "    Returns: vocab_unigram: list of unique POS tags\n",
    "    \"\"\"\n",
    "    feat={}\n",
    "    lst=[]\n",
    "    \n",
    "    for dat in data:\n",
    "        tweet=nltk.word_tokenize(dat)\n",
    "        tweet =list(nltk.pos_tag(tweet))\n",
    "        for i in vocab:\n",
    "            feat[i]= i in tweet\n",
    "        lst.append(feat)\n",
    "        feat={}\n",
    "    \n",
    "    return lst\n",
    "task1_unigram_features=features_unigram(tweet_X_task1,vocab_unigram_task1)\n",
    "task1_bigram_features=features_bigram(tweet_X_task1,vocab_bigram_task1)\n",
    "task1_POS_features=features_POS(tweet_X_task1,vocab_pos_tag_task1)\n",
    "\n",
    "task2_unigram_features=features_unigram(tweet_X_task2,vocab_unigram_task2)\n",
    "task2_bigram_features=features_bigram(tweet_X_task2,vocab_bigram_task2)\n",
    "task2_POS_features=features_POS(tweet_X_task2,vocab_pos_tag_task2)"
   ]
  },
  {
   "cell_type": "markdown",
   "metadata": {},
   "source": [
    "### Step 4: Test Train Split\n",
    "Test train split, use [sklearns test train split](https://scikit-learn.org/stable/modules/generated/sklearn.model_selection.train_test_split.html) to split the data into 80-20 ratio for training and testing. Here we are not using validation set as our dataset is too small.\n",
    "<blockquote>Note: The lists for labels are overwritten beacause each split should return the same labels</blockquote>"
   ]
  },
  {
   "cell_type": "code",
   "execution_count": 54,
   "metadata": {},
   "outputs": [],
   "source": [
    "def test_train_split(featurevectors,labels):\n",
    "    \"\"\"\n",
    "    Returns test train split data\n",
    "\n",
    "    Args:\n",
    "        featurevectors : list of feature vectors\n",
    "    \n",
    "    Returns: feature_vector_train, feature_vector_test, label_train, label_test\n",
    "    \"\"\"\n",
    "    #train,test=train_test_split(featurevectors,train_size=0.8,test_size=0.2)\n",
    "    #flatten\n",
    "    #sentiment_label_Y_task1\n",
    "    \n",
    "    \n",
    "    \n",
    "    \n",
    "    return train_test_split(featurevectors,labels,train_size=0.8,test_size=0.2)\n",
    "task1_unigram_features_train, task1_unigram_features_test, task1_label_train, task1_label_test=test_train_split(task1_unigram_features,sentiment_label_Y_task1)\n",
    "\n",
    "task1_bigram_features_train, task1_bigram_features_test, task1_label_train, task1_label_test=test_train_split(task1_bigram_features,sentiment_label_Y_task1)\n",
    "\n",
    "task1_POS_features_train, task1_POS_features_test, task1_label_train, task1_label_test=test_train_split(task1_POS_features,sentiment_label_Y_task1)\n",
    "\n",
    "task2_unigram_features_train, task2_unigram_features_test, task2_label_train, task2_label_test=test_train_split(task2_unigram_features,sentiment_label_Y_task2)\n",
    "\n",
    "task2_bigram_features_train, task2_bigram_features_test, task2_label_train, task2_label_test=test_train_split(task2_bigram_features,sentiment_label_Y_task2)\n",
    "\n",
    "task2_POS_features_train, task2_POS_features_test, task2_label_train, task2_label_test=test_train_split(task2_POS_features,sentiment_label_Y_task2)"
   ]
  },
  {
   "cell_type": "markdown",
   "metadata": {},
   "source": [
    "### Step 5: Modelling and Predictions "
   ]
  },
  {
   "cell_type": "markdown",
   "metadata": {},
   "source": [
    "#### Model 1: Niave Bayes\n",
    "For the purpose of classification we will use [Niave Bayes](https://scikit-learn.org/stable/modules/generated/sklearn.naive_bayes.MultinomialNB.html) from sklearn. Train the Niave Bayes algorithm on all featurevector variants of task 1 and task 2.<br>\n",
    "In order to compare and quantify the goodness of our model we will compute a [classification report](https://scikit-learn.org/stable/modules/generated/sklearn.metrics.classification_report.html). We will also create a [confusion matrix](https://scikit-learn.org/stable/modules/generated/sklearn.metrics.confusion_matrix.html) to see what mistakes the model might be making.\n",
    "\n",
    "First program the train_model and predictions function which are general functions that will be used later on."
   ]
  },
  {
   "cell_type": "code",
   "execution_count": 7,
   "metadata": {},
   "outputs": [],
   "source": [
    "def train_model(features,labels):\n",
    "    \"\"\"\n",
    "    Trains a Naive Bayes model \n",
    "\n",
    "    Args:\n",
    "        features : list of feature vectors or X\n",
    "        labels: targets or Y\n",
    "        model: Niave Bayes model that is to be trained\n",
    "    \n",
    "    Returns: trained model\n",
    "    \"\"\"\n",
    "    features_set=[(features[i],labels[i]) for i in range(0,len(features))]\n",
    "    classifier=nltk.NaiveBayesClassifier.train(features_set)\n",
    "    return classifier\n"
   ]
  },
  {
   "cell_type": "code",
   "execution_count": 8,
   "metadata": {},
   "outputs": [],
   "source": [
    "def predictions(classifier,features):\n",
    "    \"\"\"\n",
    "    Returns predictions from a trained model\n",
    "    \n",
    "\n",
    "    Args:\n",
    "        features : list of feature vectors or X\n",
    "        model: Niave Bayes model that is to be trained\n",
    "    \n",
    "    Returns: prediction list\n",
    "    \"\"\"\n",
    "    #\n",
    "    \n",
    "    return classifier.classify_many(features)\n",
    "    \n",
    "    \n",
    "    \n",
    "    \n"
   ]
  },
  {
   "cell_type": "markdown",
   "metadata": {},
   "source": [
    "##### Using the above functions train different models for different feature vectors and  obtain the models predictions for test set."
   ]
  },
  {
   "cell_type": "code",
   "execution_count": 9,
   "metadata": {},
   "outputs": [],
   "source": [
    "#train model on task1_unigram_features_train\n",
    "###__________Code_Here________________###\n",
    "\n",
    "classifier1=train_model(task1_unigram_features_train,task1_label_train)\n",
    "\n",
    "\n",
    "###___________________________________###"
   ]
  },
  {
   "cell_type": "code",
   "execution_count": 10,
   "metadata": {},
   "outputs": [
    {
     "name": "stdout",
     "output_type": "stream",
     "text": [
      "              precision    recall  f1-score   support\n",
      "\n",
      "         Pos       0.39      0.46      0.42        35\n",
      "         Neg       0.65      0.59      0.62        61\n",
      "\n",
      "    accuracy                           0.54        96\n",
      "   macro avg       0.52      0.52      0.52        96\n",
      "weighted avg       0.56      0.54      0.55        96\n",
      "\n"
     ]
    },
    {
     "data": {
      "image/png": "[encoded data removed]",
      "text/plain": [
       "<Figure size 432x288 with 2 Axes>"
      ]
     },
     "metadata": {},
     "output_type": "display_data"
    },
    {
     "name": "stdout",
     "output_type": "stream",
     "text": [
      "Most Informative Features\n",
      "                     way = True              Pos : Neg    =      6.0 : 1.0\n",
      "                    next = True              Pos : Neg    =      6.0 : 1.0\n",
      "                    hour = True              Pos : Neg    =      6.0 : 1.0\n",
      "                    work = True              Pos : Neg    =      5.2 : 1.0\n",
      "                    hope = True              Pos : Neg    =      4.6 : 1.0\n",
      "                     old = True              Pos : Neg    =      4.6 : 1.0\n",
      "                   whats = True              Pos : Neg    =      4.6 : 1.0\n",
      "                    glad = True              Pos : Neg    =      4.6 : 1.0\n",
      "                    wish = True              Pos : Neg    =      4.6 : 1.0\n",
      "                   steve = True              Pos : Neg    =      4.6 : 1.0\n"
     ]
    }
   ],
   "source": [
    "#Classification report for task1_unigram_features_train\n",
    "###__________Code_Here________________###\n",
    "pred=predictions(classifier1,task1_unigram_features_test)\n",
    "\n",
    "###___________________________________###\n",
    "\n",
    "print(classification_report(task1_label_test, pred, labels=[\"Pos\", \"Neg\"]))\n",
    "cm=confusion_matrix(task1_label_test,pred)\n",
    "cm = pd.DataFrame(cm, ['Pos','Neg'], ['Pos','Neg'])# matrix,names row,names col,\n",
    "# plt.figure(figsize=(10,7))\n",
    "sn.set(font_scale=1.5) # for label size\n",
    "sn.heatmap(cm, annot=True, annot_kws={\"size\": 11}, fmt=\"d\") # font size\n",
    "plt.show()\n",
    "classifier1.show_most_informative_features()"
   ]
  },
  {
   "cell_type": "code",
   "execution_count": 11,
   "metadata": {},
   "outputs": [],
   "source": [
    "#train model on task1_bigram_features_train\n",
    "###__________Code_Here________________###\n",
    "\n",
    "classifier2=train_model(task1_bigram_features_train,task1_label_train)\n",
    "\n",
    "\n",
    "\n",
    "\n",
    "###___________________________________###"
   ]
  },
  {
   "cell_type": "code",
   "execution_count": 12,
   "metadata": {},
   "outputs": [
    {
     "name": "stdout",
     "output_type": "stream",
     "text": [
      "              precision    recall  f1-score   support\n",
      "\n",
      "         Pos       0.35      0.34      0.35        35\n",
      "         Neg       0.63      0.64      0.63        61\n",
      "\n",
      "    accuracy                           0.53        96\n",
      "   macro avg       0.49      0.49      0.49        96\n",
      "weighted avg       0.53      0.53      0.53        96\n",
      "\n"
     ]
    },
    {
     "data": {
      "image/png": "[encoded data removed]",
      "text/plain": [
       "<Figure size 432x288 with 2 Axes>"
      ]
     },
     "metadata": {},
     "output_type": "display_data"
    },
    {
     "name": "stdout",
     "output_type": "stream",
     "text": [
      "Most Informative Features\n",
      "('that', 'AT_TOKENapple') = True              Pos : Neg    =      7.3 : 1.0\n",
      "      ('macbook', 'pro') = True              Pos : Neg    =      6.0 : 1.0\n",
      "            ('a', 'few') = True              Pos : Neg    =      4.6 : 1.0\n",
      "   ('AT_TOKEN', 'apple') = True              Pos : Neg    =      4.6 : 1.0\n",
      "       ('connect', 'to') = True              Pos : Neg    =      4.6 : 1.0\n",
      "           ('one', 'of') = True              Pos : Neg    =      4.6 : 1.0\n",
      "          ('with', 'my') = True              Pos : Neg    =      4.6 : 1.0\n",
      "      ('apple', 'store') = True              Pos : Neg    =      3.7 : 1.0\n",
      "          ('this', 'is') = True              Pos : Neg    =      3.6 : 1.0\n",
      "           ('out', 'of') = True              Pos : Neg    =      3.6 : 1.0\n"
     ]
    }
   ],
   "source": [
    "#Classification report and confusion matrix for task1_bigram_features_train\n",
    "###__________Code_Here________________###\n",
    "pred=predictions(classifier2,task1_bigram_features_test)\n",
    "###___________________________________###\n",
    "\n",
    "print(classification_report(task1_label_test, pred, labels=[\"Pos\", \"Neg\"]))\n",
    "cm=confusion_matrix(task1_label_test,pred)\n",
    "cm = pd.DataFrame(cm, ['Pos','Neg'], ['Pos','Neg'])# matrix,names row,names col,\n",
    "# plt.figure(figsize=(10,7))\n",
    "sn.set(font_scale=1.5) # for label size\n",
    "sn.heatmap(cm, annot=True, annot_kws={\"size\": 11}, fmt=\"d\") # font size\n",
    "plt.show()\n",
    "classifier2.show_most_informative_features()\n"
   ]
  },
  {
   "cell_type": "code",
   "execution_count": 13,
   "metadata": {},
   "outputs": [],
   "source": [
    "#train model on task1_POS_features_train\n",
    "###__________Code_Here________________###\n",
    "\n",
    "classifier3=train_model(task1_POS_features_train,task1_label_train)\n",
    "\n",
    "###___________________________________###"
   ]
  },
  {
   "cell_type": "code",
   "execution_count": 14,
   "metadata": {},
   "outputs": [
    {
     "name": "stdout",
     "output_type": "stream",
     "text": [
      "              precision    recall  f1-score   support\n",
      "\n",
      "         Pos       0.70      0.74      0.72        35\n",
      "         Neg       0.85      0.82      0.83        61\n",
      "\n",
      "    accuracy                           0.79        96\n",
      "   macro avg       0.78      0.78      0.78        96\n",
      "weighted avg       0.79      0.79      0.79        96\n",
      "\n"
     ]
    },
    {
     "data": {
      "image/png": "[encoded data removed]",
      "text/plain": [
       "<Figure size 432x288 with 2 Axes>"
      ]
     },
     "metadata": {},
     "output_type": "display_data"
    },
    {
     "name": "stdout",
     "output_type": "stream",
     "text": [
      "Most Informative Features\n",
      "         ('best', 'JJS') = True              Pos : Neg    =      8.6 : 1.0\n",
      "       ('awesome', 'JJ') = True              Pos : Neg    =      8.6 : 1.0\n",
      "         ('thank', 'NN') = True              Pos : Neg    =      7.5 : 1.0\n",
      "('AT_TOKENblackberry', 'NNP') = True              Pos : Neg    =      7.3 : 1.0\n",
      "       ('loving', 'VBG') = True              Pos : Neg    =      7.3 : 1.0\n",
      "       ('feature', 'NN') = True              Pos : Neg    =      7.3 : 1.0\n",
      "           ('job', 'NN') = True              Pos : Neg    =      6.0 : 1.0\n",
      "          ('nice', 'JJ') = True              Pos : Neg    =      6.0 : 1.0\n",
      "          ('over', 'IN') = True              Pos : Neg    =      6.0 : 1.0\n",
      "          ('that', 'IN') = True              Neg : Pos    =      5.5 : 1.0\n"
     ]
    }
   ],
   "source": [
    "#Classification report for task1_POS_features\n",
    "###__________Code_Here________________###\n",
    "pred=predictions(classifier3,task1_POS_features_test)\n",
    "###___________________________________###\n",
    "\n",
    "print(classification_report(task1_label_test, pred, labels=[\"Pos\", \"Neg\"]))\n",
    "cm=confusion_matrix(task1_label_test,pred)\n",
    "cm = pd.DataFrame(cm, ['Pos','Neg'], ['Pos','Neg'])# matrix,names row,names col,\n",
    "# plt.figure(figsize=(10,7))\n",
    "sn.set(font_scale=1.5) # for label size\n",
    "sn.heatmap(cm, annot=True, annot_kws={\"size\": 11}, fmt=\"d\") # font size\n",
    "plt.show()\n",
    "classifier3.show_most_informative_features()"
   ]
  },
  {
   "cell_type": "markdown",
   "metadata": {},
   "source": [
    "#### Compare how performance changes for different feature vectors for task1? "
   ]
  },
  {
   "cell_type": "code",
   "execution_count": 1,
   "metadata": {},
   "outputs": [
    {
     "ename": "NameError",
     "evalue": "name 'classifier1' is not defined",
     "output_type": "error",
     "traceback": [
      "\u001b[1;31m---------------------------------------------------------------------------\u001b[0m",
      "\u001b[1;31mNameError\u001b[0m                                 Traceback (most recent call last)",
      "\u001b[1;32m<ipython-input-1-355aece041ff>\u001b[0m in \u001b[0;36m<module>\u001b[1;34m\u001b[0m\n\u001b[0;32m      4\u001b[0m     \u001b[0mprint\u001b[0m\u001b[1;33m(\u001b[0m\u001b[1;34mf'{model}_model_accuracy: '\u001b[0m\u001b[1;33m,\u001b[0m\u001b[0mnltk\u001b[0m\u001b[1;33m.\u001b[0m\u001b[0mclassify\u001b[0m\u001b[1;33m.\u001b[0m\u001b[0maccuracy\u001b[0m\u001b[1;33m(\u001b[0m\u001b[0mclassifier\u001b[0m\u001b[1;33m,\u001b[0m\u001b[0mfeatures_set\u001b[0m\u001b[1;33m)\u001b[0m\u001b[1;33m)\u001b[0m\u001b[1;33m\u001b[0m\u001b[1;33m\u001b[0m\u001b[0m\n\u001b[0;32m      5\u001b[0m \u001b[1;33m\u001b[0m\u001b[0m\n\u001b[1;32m----> 6\u001b[1;33m \u001b[0maccuracy\u001b[0m\u001b[1;33m(\u001b[0m\u001b[1;34m'unigram'\u001b[0m\u001b[1;33m,\u001b[0m\u001b[0mclassifier1\u001b[0m\u001b[1;33m,\u001b[0m\u001b[0mtask1_unigram_features_test\u001b[0m\u001b[1;33m,\u001b[0m\u001b[0mtask1_label_test\u001b[0m\u001b[1;33m)\u001b[0m\u001b[1;33m\u001b[0m\u001b[1;33m\u001b[0m\u001b[0m\n\u001b[0m\u001b[0;32m      7\u001b[0m \u001b[0maccuracy\u001b[0m\u001b[1;33m(\u001b[0m\u001b[1;34m'bigram'\u001b[0m\u001b[1;33m,\u001b[0m\u001b[0mclassifier2\u001b[0m\u001b[1;33m,\u001b[0m\u001b[0mtask1_bigram_features_test\u001b[0m\u001b[1;33m,\u001b[0m\u001b[0mtask1_label_test\u001b[0m\u001b[1;33m)\u001b[0m\u001b[1;33m\u001b[0m\u001b[1;33m\u001b[0m\u001b[0m\n\u001b[0;32m      8\u001b[0m \u001b[0maccuracy\u001b[0m\u001b[1;33m(\u001b[0m\u001b[1;34m'POS'\u001b[0m\u001b[1;33m,\u001b[0m\u001b[0mclassifier3\u001b[0m\u001b[1;33m,\u001b[0m\u001b[0mtask1_POS_features_test\u001b[0m\u001b[1;33m,\u001b[0m\u001b[0mtask1_label_test\u001b[0m\u001b[1;33m)\u001b[0m\u001b[1;33m\u001b[0m\u001b[1;33m\u001b[0m\u001b[0m\n",
      "\u001b[1;31mNameError\u001b[0m: name 'classifier1' is not defined"
     ]
    }
   ],
   "source": [
    "%%capture\n",
    "# ###______________Answer_Start_________###\n",
    "def accuracy(model,classifier,features,labels):\n",
    "    features_set=[(features[i],labels[i]) for i in range(0,len(features))]\n",
    "    print(f'{model}_model_accuracy: ',nltk.classify.accuracy(classifier,features_set))\n",
    "    \n",
    "accuracy('unigram',classifier1,task1_unigram_features_test,task1_label_test)\n",
    "accuracy('bigram',classifier2,task1_bigram_features_test,task1_label_test)\n",
    "accuracy('POS',classifier3,task1_POS_features_test,task1_label_test)\n",
    "###______________Answer_End_________###\n",
    "\n",
    "\n",
    "\n",
    "print('POS model has highest accuracy') \n"
   ]
  },
  {
   "cell_type": "markdown",
   "metadata": {},
   "source": [
    "##### Repeat the above steps for task2"
   ]
  },
  {
   "cell_type": "code",
   "execution_count": 16,
   "metadata": {},
   "outputs": [],
   "source": [
    "#train model on task2_unigram_features_train\n",
    "###__________Code_Here________________###\n",
    "classifier4=train_model(task2_unigram_features_train,task2_label_train)\n",
    "\n",
    "###___________________________________###"
   ]
  },
  {
   "cell_type": "code",
   "execution_count": 17,
   "metadata": {},
   "outputs": [
    {
     "ename": "TypeError",
     "evalue": "predictions() missing 2 required positional arguments: 'classifier' and 'features'",
     "output_type": "error",
     "traceback": [
      "\u001b[1;31m---------------------------------------------------------------------------\u001b[0m",
      "\u001b[1;31mTypeError\u001b[0m                                 Traceback (most recent call last)",
      "\u001b[1;32m<ipython-input-17-0ed71b993976>\u001b[0m in \u001b[0;36m<module>\u001b[1;34m\u001b[0m\n\u001b[0;32m      1\u001b[0m \u001b[1;31m#Classification report for task2_unigram_features\u001b[0m\u001b[1;33m\u001b[0m\u001b[1;33m\u001b[0m\u001b[1;33m\u001b[0m\u001b[0m\n\u001b[0;32m      2\u001b[0m \u001b[1;31m###__________Code_Here________________###\u001b[0m\u001b[1;33m\u001b[0m\u001b[1;33m\u001b[0m\u001b[1;33m\u001b[0m\u001b[0m\n\u001b[1;32m----> 3\u001b[1;33m \u001b[0mpred\u001b[0m\u001b[1;33m=\u001b[0m\u001b[0mpredictions\u001b[0m\u001b[1;33m(\u001b[0m\u001b[1;33m)\u001b[0m\u001b[1;33m\u001b[0m\u001b[1;33m\u001b[0m\u001b[0m\n\u001b[0m\u001b[0;32m      4\u001b[0m \u001b[1;31m###___________________________________###\u001b[0m\u001b[1;33m\u001b[0m\u001b[1;33m\u001b[0m\u001b[1;33m\u001b[0m\u001b[0m\n\u001b[0;32m      5\u001b[0m \u001b[0mprint\u001b[0m\u001b[1;33m(\u001b[0m\u001b[0mclassification_report\u001b[0m\u001b[1;33m(\u001b[0m\u001b[0mtask2_label_test\u001b[0m\u001b[1;33m,\u001b[0m \u001b[0mpred\u001b[0m\u001b[1;33m,\u001b[0m \u001b[0mlabels\u001b[0m\u001b[1;33m=\u001b[0m\u001b[1;33m[\u001b[0m\u001b[1;34m\"Pos\"\u001b[0m\u001b[1;33m,\u001b[0m \u001b[1;34m\"Neg\"\u001b[0m\u001b[1;33m,\u001b[0m\u001b[1;34m\"Neutral\"\u001b[0m\u001b[1;33m]\u001b[0m\u001b[1;33m)\u001b[0m\u001b[1;33m)\u001b[0m\u001b[1;33m\u001b[0m\u001b[1;33m\u001b[0m\u001b[0m\n",
      "\u001b[1;31mTypeError\u001b[0m: predictions() missing 2 required positional arguments: 'classifier' and 'features'"
     ]
    }
   ],
   "source": [
    "#Classification report for task2_unigram_features\n",
    "###__________Code_Here________________###\n",
    "pred=predictions(classifier4,task2_unigram_features_test)\n",
    "###___________________________________###\n",
    "print(classification_report(task2_label_test, pred, labels=[\"Pos\", \"Neg\",\"Neutral\"]))\n",
    "cm=confusion_matrix(task2_label_test,pred)\n",
    "cm = pd.DataFrame(cm, [\"Pos\",\"Neg\",\"Neutral\"], [\"Pos\",\"Neg\",\"Neutral\"])# matrix,names row,names col,\n",
    "# plt.figure(figsize=(10,7))\n",
    "sn.set(font_scale=1.5) # for label size\n",
    "sn.heatmap(cm, annot=True, annot_kws={\"size\": 11}, fmt=\"d\") # font size\n",
    "plt.show()"
   ]
  },
  {
   "cell_type": "code",
   "execution_count": null,
   "metadata": {},
   "outputs": [],
   "source": [
    "#train model on task2_bigram_features_train\n",
    "###__________Code_Here________________###\n",
    "classifier5=train_model(task2_bigram_features_train,task2_label_train)\n",
    "\n",
    "\n",
    "###___________________________________###"
   ]
  },
  {
   "cell_type": "code",
   "execution_count": null,
   "metadata": {},
   "outputs": [],
   "source": [
    "#Classification report for task2_bigram_features\n",
    "###__________Code_Here________________###\n",
    "pred=predictions(classifier5,task2_bigram_features_test)\n",
    "###___________________________________###\n",
    "\n",
    "print(classification_report(task2_label_test, pred, labels=[\"Pos\", \"Neg\",\"Neutral\"]))\n",
    "cm=confusion_matrix(task2_label_test,pred)\n",
    "cm = pd.DataFrame(cm, [\"Pos\",\"Neg\",\"Neutral\"], [\"Pos\",\"Neg\",\"Neutral\"])# matrix,names row,names col,\n",
    "# plt.figure(figsize=(10,7))\n",
    "sn.set(font_scale=1.5) # for label size\n",
    "sn.heatmap(cm, annot=True, annot_kws={\"size\": 11}, fmt=\"d\") # font size\n",
    "plt.show()"
   ]
  },
  {
   "cell_type": "code",
   "execution_count": null,
   "metadata": {},
   "outputs": [],
   "source": [
    "#train model on task2_POS_features_train\n",
    "###__________Code_Here________________###\n",
    "classifier6=train_model(task2_POS_features_train,task2_label_train)\n",
    "\n",
    "\n",
    "###___________________________________###"
   ]
  },
  {
   "cell_type": "code",
   "execution_count": null,
   "metadata": {},
   "outputs": [],
   "source": [
    "\n",
    "#Classification report for task2_POS_features\n",
    "###__________Code_Here________________###\n",
    "pred=predictions(classifier6,task2_POS_features_test)\n",
    "###___________________________________###\n",
    "\n",
    "print(classification_report(task2_label_test, pred, labels=[\"Pos\", \"Neg\",\"Neutral\"]))\n",
    "cm=confusion_matrix(task2_label_test,pred)\n",
    "cm = pd.DataFrame(cm, [\"Pos\",\"Neg\",\"Neutral\"], [\"Pos\",\"Neg\",\"Neutral\"])# matrix,names row,names col,\n",
    "# plt.figure(figsize=(10,7))\n",
    "sn.set(font_scale=1.5) # for label size\n",
    "sn.heatmap(cm, annot=True, annot_kws={\"size\": 11}, fmt=\"d\") # font size\n",
    "plt.show()"
   ]
  },
  {
   "cell_type": "markdown",
   "metadata": {},
   "source": [
    "#####  How does the addition of an extra class affect the learning of our algorithm? Which pairs of classes are most often confused? Why might that be? "
   ]
  },
  {
   "cell_type": "code",
   "execution_count": null,
   "metadata": {},
   "outputs": [],
   "source": [
    "%%capture\n",
    "###______________Answer_Start_________###\n",
    "\n",
    "\n",
    "\n",
    "\n",
    "###______________Answer_End_________###"
   ]
  },
  {
   "cell_type": "markdown",
   "metadata": {},
   "source": [
    "### We can further create more complex features by combining different ngram features to  improve performance. We can also remove words that occur rarely in our dataset to reduce the size of our feature vectors. "
   ]
  },
  {
   "cell_type": "markdown",
   "metadata": {},
   "source": [
    "#### Model2: Logistic Regression\n",
    "We will now use [logistic regression](https://scikit-learn.org/stable/modules/generated/sklearn.linear_model.LogisticRegression.html) to explore the improvements stated above. To create complex feature vectors we will use [CountVectorizer](https://scikit-learn.org/stable/modules/generated/sklearn.feature_extraction.text.CountVectorizer.html) from sklearn.<br>\n",
    "We will play around with two parameters of CountVectorizer:\n",
    "<ul>\n",
    "    <li>min_df ( = 5): defines the minimum frequency of a word for it to be counted as a feature, in this case the word should have a frequency count of atleast 5.</li>\n",
    "    <li>ngram_range (= (2,2)): The ngram_range parameter is a tuple. It defines the minimum and maximum length of sequence of tokens considered. In this case, this length is 2. So, this will find sequence of 2 tokens like — ‘but the’, ‘wise man’ etc.</li>\n",
    "</ul>\n",
    "Use the ngram_range=(1,2) and min_df=5.\n",
    "\n",
    "Hint: See the fit and transform functions<br>\n",
    "<i>If you get stuck, you can look at our solution</i> [here](https://ibb.co/p4BFdvs)\n",
    "    \n",
    "\n",
    "    "
   ]
  },
  {
   "cell_type": "code",
   "execution_count": 34,
   "metadata": {},
   "outputs": [],
   "source": [
    "from sklearn.feature_extraction.text import CountVectorizer"
   ]
  },
  {
   "cell_type": "code",
   "execution_count": 72,
   "metadata": {},
   "outputs": [],
   "source": [
    "#create complex features\n",
    "###__________Code_Here________________###\n",
    "def matrix(documents):\n",
    "    vectorizer = CountVectorizer(min_df=5,ngram_range=(1,2))\n",
    "    X=vectorizer.fit_transform(documents)\n",
    "    return X \n",
    "\n",
    "task1_matrix=matrix(tweet_X_task1)\n",
    "task2_matrix=matrix(tweet_X_task2)\n",
    "\n",
    "\n",
    "\n",
    "###___________________________________###"
   ]
  },
  {
   "cell_type": "code",
   "execution_count": 73,
   "metadata": {},
   "outputs": [
    {
     "name": "stderr",
     "output_type": "stream",
     "text": [
      "D:\\Anaconda3\\lib\\site-packages\\sklearn\\linear_model\\logistic.py:432: FutureWarning: Default solver will be changed to 'lbfgs' in 0.22. Specify a solver to silence this warning.\n",
      "  FutureWarning)\n",
      "D:\\Anaconda3\\lib\\site-packages\\sklearn\\linear_model\\logistic.py:469: FutureWarning: Default multi_class will be changed to 'auto' in 0.22. Specify the multi_class option to silence this warning.\n",
      "  \"this warning.\", FutureWarning)\n"
     ]
    }
   ],
   "source": [
    "#dividing into test and training matrix and labels\n",
    "\n",
    "train_feat,test_feat,train_lab,test_lab=test_train_split(task2_matrix.toarray(),sentiment_label_Y_task2)\n",
    "#train logistic regression model\n",
    "###__________Code_Here________________###\n",
    "from sklearn.linear_model import LogisticRegression\n",
    "model=LogisticRegression().fit(train_feat,train_lab)\n",
    "\n",
    "\n",
    "\n",
    "\n",
    "\n",
    "###___________________________________###"
   ]
  },
  {
   "cell_type": "code",
   "execution_count": 74,
   "metadata": {},
   "outputs": [
    {
     "name": "stdout",
     "output_type": "stream",
     "text": [
      "0.6818181818181818\n",
      "              precision    recall  f1-score   support\n",
      "\n",
      "         Pos       0.14      0.08      0.10        37\n",
      "         Neg       0.39      0.36      0.37        70\n",
      "     Neutral       0.47      0.58      0.52        91\n",
      "\n",
      "    accuracy                           0.41       198\n",
      "   macro avg       0.33      0.34      0.33       198\n",
      "weighted avg       0.38      0.41      0.39       198\n",
      "\n"
     ]
    },
    {
     "data": {
      "image/png": "[encoded data removed]",
      "text/plain": [
       "<Figure size 432x288 with 2 Axes>"
      ]
     },
     "metadata": {},
     "output_type": "display_data"
    }
   ],
   "source": [
    "#train model on complex_feature\n",
    "###__________Code_Here________________###\n",
    "pred=model.predict(test_feat)\n",
    "###___________________________________###\n",
    "print(model.score(test_feat,test_lab))\n",
    "\n",
    "print(classification_report(task2_label_test, pred, labels=[\"Pos\", \"Neg\",\"Neutral\"]))\n",
    "cm=confusion_matrix(task2_label_test,pred)\n",
    "cm = pd.DataFrame(cm, [\"Pos\",\"Neg\",\"Neutral\"], [\"Pos\",\"Neg\",\"Neutral\"])# matrix,names row,names col,\n",
    "# plt.figure(figsize=(10,7))\n",
    "sn.set(font_scale=1.5) # for label size\n",
    "sn.heatmap(cm, annot=True, annot_kws={\"size\": 11}, fmt=\"d\") # font size\n",
    "plt.show()"
   ]
  },
  {
   "cell_type": "markdown",
   "metadata": {},
   "source": [
    "#### You can play around with ngram_range and min_df to further improve performance. \n"
   ]
  },
  {
   "cell_type": "markdown",
   "metadata": {},
   "source": [
    "Great you have completed the first task now move onto [Part 2](https://ibb.co/MfpxHZh)."
   ]
  },
  {
   "cell_type": "code",
   "execution_count": null,
   "metadata": {},
   "outputs": [],
   "source": []
  }
 ],
 "metadata": {
  "kernelspec": {
   "display_name": "Python 3",
   "language": "python",
   "name": "python3"
  },
  "language_info": {
   "codemirror_mode": {
    "name": "ipython",
    "version": 3
   },
   "file_extension": ".py",
   "mimetype": "text/x-python",
   "name": "python",
   "nbconvert_exporter": "python",
   "pygments_lexer": "ipython3",
   "version": "3.7.4"
  }
 },
 "nbformat": 4,
 "nbformat_minor": 2
}
